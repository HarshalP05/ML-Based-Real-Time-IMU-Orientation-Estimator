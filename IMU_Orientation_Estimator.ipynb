{
 "cells": [
  {
   "cell_type": "markdown",
   "id": "ae7f5e36",
   "metadata": {},
   "source": [
    "# Gyro Neural Network – Orientation Classification\n",
    "\n",
    "This project demonstrates **orientation classification** (Pitch, Roll, Yaw) using a simple feedforward neural network in TensorFlow/Keras.  \n",
    "It uses gyroscope sensor data stored in CSV files and trains a model to classify the orientation into one of three classes.\n",
    "\n",
    "---\n",
    "\n",
    "## Features\n",
    "- Loads CSV datasets for pitch, roll, and yaw.\n",
    "- Combines and preprocesses the data for training/testing.\n",
    "- Builds and trains a lightweight neural network.\n",
    "- Visualizes training accuracy and loss.\n",
    "- Runs a sample inference.\n",
    "- Saves the trained model for deployment.\n",
    "\n",
    "---\n"
   ]
  },
  {
   "cell_type": "code",
   "execution_count": 2,
   "id": "c5b99036",
   "metadata": {},
   "outputs": [],
   "source": [
    "# ----------------------\n",
    "# 1. Imports\n",
    "# ----------------------\n",
    "import pandas as pd\n",
    "import numpy as np\n",
    "import matplotlib.pyplot as plt\n",
    "import tensorflow as tf\n",
    "from keras.models import Sequential\n",
    "from keras.layers import Dense\n",
    "from tensorflow.keras.utils import to_categorical\n"
   ]
  },
  {
   "cell_type": "markdown",
   "id": "0e955796",
   "metadata": {},
   "source": [
    "## 2. Load Dataset\n",
    "Place your CSV files (`Pitch.csv`, `Roll.csv`, `Yaw.csv`) inside a `data/` folder in the project root.\n"
   ]
  },
  {
   "cell_type": "code",
   "execution_count": 3,
   "id": "23da5de8",
   "metadata": {},
   "outputs": [
    {
     "name": "stdout",
     "output_type": "stream",
     "text": [
      "Dataset loaded with 3000 samples.\n"
     ]
    },
    {
     "data": {
      "text/html": [
       "<div>\n",
       "<style scoped>\n",
       "    .dataframe tbody tr th:only-of-type {\n",
       "        vertical-align: middle;\n",
       "    }\n",
       "\n",
       "    .dataframe tbody tr th {\n",
       "        vertical-align: top;\n",
       "    }\n",
       "\n",
       "    .dataframe thead th {\n",
       "        text-align: right;\n",
       "    }\n",
       "</style>\n",
       "<table border=\"1\" class=\"dataframe\">\n",
       "  <thead>\n",
       "    <tr style=\"text-align: right;\">\n",
       "      <th></th>\n",
       "      <th>x</th>\n",
       "      <th>y</th>\n",
       "      <th>z</th>\n",
       "      <th>Class</th>\n",
       "    </tr>\n",
       "  </thead>\n",
       "  <tbody>\n",
       "    <tr>\n",
       "      <th>0</th>\n",
       "      <td>-22.22</td>\n",
       "      <td>-15.27</td>\n",
       "      <td>-27.27</td>\n",
       "      <td>0</td>\n",
       "    </tr>\n",
       "    <tr>\n",
       "      <th>1</th>\n",
       "      <td>-43.27</td>\n",
       "      <td>-6.25</td>\n",
       "      <td>7.40</td>\n",
       "      <td>0</td>\n",
       "    </tr>\n",
       "    <tr>\n",
       "      <th>2</th>\n",
       "      <td>-6.32</td>\n",
       "      <td>1.45</td>\n",
       "      <td>-17.87</td>\n",
       "      <td>0</td>\n",
       "    </tr>\n",
       "    <tr>\n",
       "      <th>3</th>\n",
       "      <td>-1.01</td>\n",
       "      <td>6.50</td>\n",
       "      <td>-20.01</td>\n",
       "      <td>0</td>\n",
       "    </tr>\n",
       "    <tr>\n",
       "      <th>4</th>\n",
       "      <td>14.96</td>\n",
       "      <td>-0.08</td>\n",
       "      <td>-8.32</td>\n",
       "      <td>0</td>\n",
       "    </tr>\n",
       "  </tbody>\n",
       "</table>\n",
       "</div>"
      ],
      "text/plain": [
       "       x      y      z  Class\n",
       "0 -22.22 -15.27 -27.27      0\n",
       "1 -43.27  -6.25   7.40      0\n",
       "2  -6.32   1.45 -17.87      0\n",
       "3  -1.01   6.50 -20.01      0\n",
       "4  14.96  -0.08  -8.32      0"
      ]
     },
     "execution_count": 3,
     "metadata": {},
     "output_type": "execute_result"
    }
   ],
   "source": [
    "# Load datasets\n",
    "pitch = pd.read_csv(\"data/Pitch.csv\")\n",
    "roll  = pd.read_csv(\"data/Roll.csv\")\n",
    "yaw   = pd.read_csv(\"data/Yaw.csv\")\n",
    "\n",
    "# Combine datasets\n",
    "data = pd.concat([pitch, roll, yaw])\n",
    "\n",
    "# Encode class labels\n",
    "label = \"Class\"\n",
    "classes = data[label].unique().tolist()\n",
    "data[label] = data[label].map(classes.index)\n",
    "\n",
    "print(f\"Dataset loaded with {len(data)} samples.\")\n",
    "data.head()\n"
   ]
  },
  {
   "cell_type": "markdown",
   "id": "bb160842",
   "metadata": {},
   "source": [
    "## 3. Train-Test Split\n",
    "We will split the dataset into 70% training and 30% testing data.\n"
   ]
  },
  {
   "cell_type": "code",
   "execution_count": 4,
   "id": "e860eeb0",
   "metadata": {},
   "outputs": [
    {
     "name": "stdout",
     "output_type": "stream",
     "text": [
      "2047 training samples, 953 testing samples.\n"
     ]
    }
   ],
   "source": [
    "def split_dataset(data, test_ratio=0.3):\n",
    "    test_indices = np.random.rand(len(data)) < test_ratio\n",
    "    return data[~test_indices], data[test_indices]\n",
    "\n",
    "train, test = split_dataset(data)\n",
    "\n",
    "X_train = np.array(train.drop(label, axis=1), dtype=float)\n",
    "y_train = np.array(train[label], dtype=int)\n",
    "X_test  = np.array(test.drop(label, axis=1), dtype=float)\n",
    "y_test  = np.array(test[label], dtype=int)\n",
    "\n",
    "print(f\"{len(X_train)} training samples, {len(X_test)} testing samples.\")\n"
   ]
  },
  {
   "cell_type": "markdown",
   "id": "ef925468",
   "metadata": {},
   "source": [
    "## 4. Build the Neural Network\n",
    "We use a simple architecture with:\n",
    "- Input layer: 3 neurons (gyro x, y, z)\n",
    "- Hidden layers: 8 → 10 → 10 neurons\n",
    "- Output layer: 3 neurons (Pitch, Roll, Yaw)\n"
   ]
  },
  {
   "cell_type": "code",
   "execution_count": 5,
   "id": "f231e5c8",
   "metadata": {},
   "outputs": [
    {
     "name": "stderr",
     "output_type": "stream",
     "text": [
      "c:\\Users\\harsh\\AppData\\Local\\Programs\\Python\\Python313\\Lib\\site-packages\\keras\\src\\layers\\core\\dense.py:92: UserWarning: Do not pass an `input_shape`/`input_dim` argument to a layer. When using Sequential models, prefer using an `Input(shape)` object as the first layer in the model instead.\n",
      "  super().__init__(activity_regularizer=activity_regularizer, **kwargs)\n"
     ]
    },
    {
     "data": {
      "text/html": [
       "<pre style=\"white-space:pre;overflow-x:auto;line-height:normal;font-family:Menlo,'DejaVu Sans Mono',consolas,'Courier New',monospace\"><span style=\"font-weight: bold\">Model: \"sequential\"</span>\n",
       "</pre>\n"
      ],
      "text/plain": [
       "\u001b[1mModel: \"sequential\"\u001b[0m\n"
      ]
     },
     "metadata": {},
     "output_type": "display_data"
    },
    {
     "data": {
      "text/html": [
       "<pre style=\"white-space:pre;overflow-x:auto;line-height:normal;font-family:Menlo,'DejaVu Sans Mono',consolas,'Courier New',monospace\">┏━━━━━━━━━━━━━━━━━━━━━━━━━━━━━━━━━┳━━━━━━━━━━━━━━━━━━━━━━━━┳━━━━━━━━━━━━━━━┓\n",
       "┃<span style=\"font-weight: bold\"> Layer (type)                    </span>┃<span style=\"font-weight: bold\"> Output Shape           </span>┃<span style=\"font-weight: bold\">       Param # </span>┃\n",
       "┡━━━━━━━━━━━━━━━━━━━━━━━━━━━━━━━━━╇━━━━━━━━━━━━━━━━━━━━━━━━╇━━━━━━━━━━━━━━━┩\n",
       "│ dense (<span style=\"color: #0087ff; text-decoration-color: #0087ff\">Dense</span>)                   │ (<span style=\"color: #00d7ff; text-decoration-color: #00d7ff\">None</span>, <span style=\"color: #00af00; text-decoration-color: #00af00\">8</span>)              │            <span style=\"color: #00af00; text-decoration-color: #00af00\">32</span> │\n",
       "├─────────────────────────────────┼────────────────────────┼───────────────┤\n",
       "│ dense_1 (<span style=\"color: #0087ff; text-decoration-color: #0087ff\">Dense</span>)                 │ (<span style=\"color: #00d7ff; text-decoration-color: #00d7ff\">None</span>, <span style=\"color: #00af00; text-decoration-color: #00af00\">10</span>)             │            <span style=\"color: #00af00; text-decoration-color: #00af00\">90</span> │\n",
       "├─────────────────────────────────┼────────────────────────┼───────────────┤\n",
       "│ dense_2 (<span style=\"color: #0087ff; text-decoration-color: #0087ff\">Dense</span>)                 │ (<span style=\"color: #00d7ff; text-decoration-color: #00d7ff\">None</span>, <span style=\"color: #00af00; text-decoration-color: #00af00\">10</span>)             │           <span style=\"color: #00af00; text-decoration-color: #00af00\">110</span> │\n",
       "├─────────────────────────────────┼────────────────────────┼───────────────┤\n",
       "│ dense_3 (<span style=\"color: #0087ff; text-decoration-color: #0087ff\">Dense</span>)                 │ (<span style=\"color: #00d7ff; text-decoration-color: #00d7ff\">None</span>, <span style=\"color: #00af00; text-decoration-color: #00af00\">3</span>)              │            <span style=\"color: #00af00; text-decoration-color: #00af00\">33</span> │\n",
       "└─────────────────────────────────┴────────────────────────┴───────────────┘\n",
       "</pre>\n"
      ],
      "text/plain": [
       "┏━━━━━━━━━━━━━━━━━━━━━━━━━━━━━━━━━┳━━━━━━━━━━━━━━━━━━━━━━━━┳━━━━━━━━━━━━━━━┓\n",
       "┃\u001b[1m \u001b[0m\u001b[1mLayer (type)                   \u001b[0m\u001b[1m \u001b[0m┃\u001b[1m \u001b[0m\u001b[1mOutput Shape          \u001b[0m\u001b[1m \u001b[0m┃\u001b[1m \u001b[0m\u001b[1m      Param #\u001b[0m\u001b[1m \u001b[0m┃\n",
       "┡━━━━━━━━━━━━━━━━━━━━━━━━━━━━━━━━━╇━━━━━━━━━━━━━━━━━━━━━━━━╇━━━━━━━━━━━━━━━┩\n",
       "│ dense (\u001b[38;5;33mDense\u001b[0m)                   │ (\u001b[38;5;45mNone\u001b[0m, \u001b[38;5;34m8\u001b[0m)              │            \u001b[38;5;34m32\u001b[0m │\n",
       "├─────────────────────────────────┼────────────────────────┼───────────────┤\n",
       "│ dense_1 (\u001b[38;5;33mDense\u001b[0m)                 │ (\u001b[38;5;45mNone\u001b[0m, \u001b[38;5;34m10\u001b[0m)             │            \u001b[38;5;34m90\u001b[0m │\n",
       "├─────────────────────────────────┼────────────────────────┼───────────────┤\n",
       "│ dense_2 (\u001b[38;5;33mDense\u001b[0m)                 │ (\u001b[38;5;45mNone\u001b[0m, \u001b[38;5;34m10\u001b[0m)             │           \u001b[38;5;34m110\u001b[0m │\n",
       "├─────────────────────────────────┼────────────────────────┼───────────────┤\n",
       "│ dense_3 (\u001b[38;5;33mDense\u001b[0m)                 │ (\u001b[38;5;45mNone\u001b[0m, \u001b[38;5;34m3\u001b[0m)              │            \u001b[38;5;34m33\u001b[0m │\n",
       "└─────────────────────────────────┴────────────────────────┴───────────────┘\n"
      ]
     },
     "metadata": {},
     "output_type": "display_data"
    },
    {
     "data": {
      "text/html": [
       "<pre style=\"white-space:pre;overflow-x:auto;line-height:normal;font-family:Menlo,'DejaVu Sans Mono',consolas,'Courier New',monospace\"><span style=\"font-weight: bold\"> Total params: </span><span style=\"color: #00af00; text-decoration-color: #00af00\">265</span> (1.04 KB)\n",
       "</pre>\n"
      ],
      "text/plain": [
       "\u001b[1m Total params: \u001b[0m\u001b[38;5;34m265\u001b[0m (1.04 KB)\n"
      ]
     },
     "metadata": {},
     "output_type": "display_data"
    },
    {
     "data": {
      "text/html": [
       "<pre style=\"white-space:pre;overflow-x:auto;line-height:normal;font-family:Menlo,'DejaVu Sans Mono',consolas,'Courier New',monospace\"><span style=\"font-weight: bold\"> Trainable params: </span><span style=\"color: #00af00; text-decoration-color: #00af00\">265</span> (1.04 KB)\n",
       "</pre>\n"
      ],
      "text/plain": [
       "\u001b[1m Trainable params: \u001b[0m\u001b[38;5;34m265\u001b[0m (1.04 KB)\n"
      ]
     },
     "metadata": {},
     "output_type": "display_data"
    },
    {
     "data": {
      "text/html": [
       "<pre style=\"white-space:pre;overflow-x:auto;line-height:normal;font-family:Menlo,'DejaVu Sans Mono',consolas,'Courier New',monospace\"><span style=\"font-weight: bold\"> Non-trainable params: </span><span style=\"color: #00af00; text-decoration-color: #00af00\">0</span> (0.00 B)\n",
       "</pre>\n"
      ],
      "text/plain": [
       "\u001b[1m Non-trainable params: \u001b[0m\u001b[38;5;34m0\u001b[0m (0.00 B)\n"
      ]
     },
     "metadata": {},
     "output_type": "display_data"
    }
   ],
   "source": [
    "model = Sequential()\n",
    "model.add(Dense(8, input_dim=3, activation='relu'))\n",
    "model.add(Dense(10, activation='relu'))\n",
    "model.add(Dense(10, activation='relu'))\n",
    "model.add(Dense(3, activation='softmax'))\n",
    "\n",
    "model.compile(loss='categorical_crossentropy', optimizer='adam', metrics=['accuracy'])\n",
    "model.summary()\n"
   ]
  },
  {
   "cell_type": "markdown",
   "id": "4c4284b0",
   "metadata": {},
   "source": [
    "## 5. Train the Model\n",
    "We train for 20 epochs with a batch size of 5 and validate on the test set.\n"
   ]
  },
  {
   "cell_type": "code",
   "execution_count": 8,
   "id": "4395d887",
   "metadata": {},
   "outputs": [],
   "source": [
    "history = model.fit(X_train, to_categorical(y_train),\n",
    "                    epochs=20, batch_size=5,\n",
    "                    validation_data=(X_test, to_categorical(y_test)),\n",
    "                    verbose=0)"
   ]
  },
  {
   "cell_type": "markdown",
   "id": "8ef29e76",
   "metadata": {},
   "source": [
    "## 6. Visualize Training Results\n",
    "We plot both **accuracy** and **loss** over epochs.\n"
   ]
  },
  {
   "cell_type": "code",
   "execution_count": 9,
   "id": "5fb7d0d6",
   "metadata": {},
   "outputs": [
    {
     "data": {
      "image/png": "[encoded data removed]",
      "text/plain": [
       "<Figure size 1200x500 with 2 Axes>"
      ]
     },
     "metadata": {},
     "output_type": "display_data"
    }
   ],
   "source": [
    "plt.figure(figsize=(12,5))\n",
    "\n",
    "# Accuracy plot\n",
    "plt.subplot(1, 2, 1)\n",
    "plt.plot(history.history['accuracy'], label='Train Accuracy')\n",
    "plt.plot(history.history['val_accuracy'], label='Test Accuracy')\n",
    "plt.title('Model Accuracy')\n",
    "plt.xlabel('Epoch')\n",
    "plt.ylabel('Accuracy')\n",
    "plt.legend()\n",
    "\n",
    "# Loss plot\n",
    "plt.subplot(1, 2, 2)\n",
    "plt.plot(history.history['loss'], label='Train Loss')\n",
    "plt.plot(history.history['val_loss'], label='Test Loss')\n",
    "plt.title('Model Loss')\n",
    "plt.xlabel('Epoch')\n",
    "plt.ylabel('Loss')\n",
    "plt.legend()\n",
    "\n",
    "plt.show()\n"
   ]
  },
  {
   "cell_type": "markdown",
   "id": "b3157c45",
   "metadata": {},
   "source": [
    "## 7. Sample Inference\n",
    "We test the model with a dummy set of gyro readings to see the predicted orientation.\n"
   ]
  },
  {
   "cell_type": "code",
   "execution_count": 10,
   "id": "0357e565",
   "metadata": {},
   "outputs": [
    {
     "name": "stdout",
     "output_type": "stream",
     "text": [
      "\u001b[1m1/1\u001b[0m \u001b[32m━━━━━━━━━━━━━━━━━━━━\u001b[0m\u001b[37m\u001b[0m \u001b[1m0s\u001b[0m 55ms/step\n",
      "Sample Input: [[0.45 0.12 0.05]]\n",
      "Predicted Class: Pitch\n"
     ]
    }
   ],
   "source": [
    "sample_input = np.array([[0.45, 0.12, 0.05]])  # Example gyro readings\n",
    "pred_class = np.argmax(model.predict(sample_input), axis=-1)\n",
    "class_names = [\"Pitch\", \"Roll\", \"Yaw\"]\n",
    "\n",
    "print(f\"Sample Input: {sample_input}\")\n",
    "print(f\"Predicted Class: {class_names[pred_class[0]]}\")\n"
   ]
  },
  {
   "cell_type": "markdown",
   "id": "5602173d",
   "metadata": {},
   "source": [
    "## 8. Save the Model\n",
    "We save the model as `orientation_model.tflite` for future use or deployment.\n"
   ]
  },
  {
   "cell_type": "code",
   "execution_count": 11,
   "id": "9576583d",
   "metadata": {},
   "outputs": [
    {
     "name": "stdout",
     "output_type": "stream",
     "text": [
      "INFO:tensorflow:Assets written to: C:\\Users\\harsh\\AppData\\Local\\Temp\\tmprti3v9b4\\assets\n"
     ]
    },
    {
     "name": "stderr",
     "output_type": "stream",
     "text": [
      "INFO:tensorflow:Assets written to: C:\\Users\\harsh\\AppData\\Local\\Temp\\tmprti3v9b4\\assets\n"
     ]
    },
    {
     "name": "stdout",
     "output_type": "stream",
     "text": [
      "Saved artifact at 'C:\\Users\\harsh\\AppData\\Local\\Temp\\tmprti3v9b4'. The following endpoints are available:\n",
      "\n",
      "* Endpoint 'serve'\n",
      "  args_0 (POSITIONAL_ONLY): TensorSpec(shape=(None, 3), dtype=tf.float32, name='keras_tensor')\n",
      "Output Type:\n",
      "  TensorSpec(shape=(None, 3), dtype=tf.float32, name=None)\n",
      "Captures:\n",
      "  1542156426256: TensorSpec(shape=(), dtype=tf.resource, name=None)\n",
      "  1542156427408: TensorSpec(shape=(), dtype=tf.resource, name=None)\n",
      "  1542156425488: TensorSpec(shape=(), dtype=tf.resource, name=None)\n",
      "  1542156428176: TensorSpec(shape=(), dtype=tf.resource, name=None)\n",
      "  1542156427024: TensorSpec(shape=(), dtype=tf.resource, name=None)\n",
      "  1542156429136: TensorSpec(shape=(), dtype=tf.resource, name=None)\n",
      "  1542156427792: TensorSpec(shape=(), dtype=tf.resource, name=None)\n",
      "  1542156429328: TensorSpec(shape=(), dtype=tf.resource, name=None)\n",
      "Model converted and saved as orientation_model.tflite\n"
     ]
    }
   ],
   "source": [
    "# Directly convert the in-memory Keras model to TFLite\n",
    "converter = tf.lite.TFLiteConverter.from_keras_model(model)\n",
    "tflite_model = converter.convert()\n",
    "\n",
    "# Save TFLite model\n",
    "with open(\"orientation_model.tflite\", \"wb\") as f:\n",
    "    f.write(tflite_model)\n",
    "\n",
    "print(\"Model converted and saved as orientation_model.tflite\")"
   ]
  },
  {
   "cell_type": "code",
   "execution_count": null,
   "id": "a94011dc",
   "metadata": {},
   "outputs": [],
   "source": []
  }
 ],
 "metadata": {
  "kernelspec": {
   "display_name": "Python 3",
   "language": "python",
   "name": "python3"
  },
  "language_info": {
   "codemirror_mode": {
    "name": "ipython",
    "version": 3
   },
   "file_extension": ".py",
   "mimetype": "text/x-python",
   "name": "python",
   "nbconvert_exporter": "python",
   "pygments_lexer": "ipython3",
   "version": "3.13.2"
  }
 },
 "nbformat": 4,
 "nbformat_minor": 5
}
